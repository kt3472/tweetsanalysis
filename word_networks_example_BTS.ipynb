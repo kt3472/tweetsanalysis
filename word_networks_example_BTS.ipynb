{
 "cells": [
  {
   "cell_type": "code",
   "execution_count": 30,
   "metadata": {},
   "outputs": [],
   "source": [
    "import pandas as pd\n",
    "import numpy as np\n",
    "\n",
    "import networkx as nx\n",
    "import matplotlib.pyplot as plt\n",
    "import matplotlib.font_manager as fm\n",
    "from matplotlib import rc\n",
    "\n",
    "from konlpy.tag import Okt\n",
    "import re\n",
    "\n",
    "from apyori import apriori\n",
    "\n",
    "\n",
    "from matplotlib import rc\n",
    "\n",
    "font_name = fm.FontProperties(fname=\"c:/Windows/Fonts/malgun.ttf\").get_name()\n",
    "\n",
    "rc('font', family=font_name)"
   ]
  },
  {
   "cell_type": "code",
   "execution_count": 5,
   "metadata": {},
   "outputs": [],
   "source": [
    "df_3_not_re = pd.read_csv('df_3_not_re.csv')"
   ]
  },
  {
   "cell_type": "code",
   "execution_count": 6,
   "metadata": {},
   "outputs": [],
   "source": [
    "df_3_not_re = df_3_not_re.drop('Unnamed: 0', axis = 1)"
   ]
  },
  {
   "cell_type": "code",
   "execution_count": 7,
   "metadata": {},
   "outputs": [
    {
     "data": {
      "text/html": [
       "<div>\n",
       "<style scoped>\n",
       "    .dataframe tbody tr th:only-of-type {\n",
       "        vertical-align: middle;\n",
       "    }\n",
       "\n",
       "    .dataframe tbody tr th {\n",
       "        vertical-align: top;\n",
       "    }\n",
       "\n",
       "    .dataframe thead th {\n",
       "        text-align: right;\n",
       "    }\n",
       "</style>\n",
       "<table border=\"1\" class=\"dataframe\">\n",
       "  <thead>\n",
       "    <tr style=\"text-align: right;\">\n",
       "      <th></th>\n",
       "      <th>index</th>\n",
       "      <th>username</th>\n",
       "      <th>date_t</th>\n",
       "      <th>text_t</th>\n",
       "      <th>favorites</th>\n",
       "      <th>hashtags</th>\n",
       "      <th>retweets</th>\n",
       "      <th>replies</th>\n",
       "      <th>author_id</th>\n",
       "      <th>p_link</th>\n",
       "      <th>dt_date</th>\n",
       "      <th>dt_date_year</th>\n",
       "      <th>dt_date_month</th>\n",
       "      <th>dt_date_day</th>\n",
       "      <th>dt_date_min</th>\n",
       "      <th>dt_date_sec</th>\n",
       "    </tr>\n",
       "  </thead>\n",
       "  <tbody>\n",
       "    <tr>\n",
       "      <th>0</th>\n",
       "      <td>12</td>\n",
       "      <td>Onlyyou1230bts</td>\n",
       "      <td>2020-12-03 23:59:54</td>\n",
       "      <td>@IMBANGBAKSA #석진생일ㅊㅋ\\n#HAPPYJINDAY\\n#석진아_아미가_생...</td>\n",
       "      <td>1</td>\n",
       "      <td>NaN</td>\n",
       "      <td>0</td>\n",
       "      <td>NaN</td>\n",
       "      <td>1190676407438868487</td>\n",
       "      <td>NaN</td>\n",
       "      <td>2020-12-03 23:59:54</td>\n",
       "      <td>2020</td>\n",
       "      <td>12</td>\n",
       "      <td>3</td>\n",
       "      <td>59</td>\n",
       "      <td>54</td>\n",
       "    </tr>\n",
       "    <tr>\n",
       "      <th>1</th>\n",
       "      <td>14</td>\n",
       "      <td>miaydizz</td>\n",
       "      <td>2020-12-03 23:59:53</td>\n",
       "      <td>@yoonmeowbit @BTS_twt THANK YOU SEOKJIN 🥺 @BTS...</td>\n",
       "      <td>0</td>\n",
       "      <td>NaN</td>\n",
       "      <td>0</td>\n",
       "      <td>NaN</td>\n",
       "      <td>1135779783822913537</td>\n",
       "      <td>NaN</td>\n",
       "      <td>2020-12-03 23:59:53</td>\n",
       "      <td>2020</td>\n",
       "      <td>12</td>\n",
       "      <td>3</td>\n",
       "      <td>59</td>\n",
       "      <td>53</td>\n",
       "    </tr>\n",
       "    <tr>\n",
       "      <th>2</th>\n",
       "      <td>18</td>\n",
       "      <td>yl58126824</td>\n",
       "      <td>2020-12-03 23:59:52</td>\n",
       "      <td>우와아....👀\\n\\n#BTS_BE #LifeGoesOn\\n#방탄소년단 #BTS @...</td>\n",
       "      <td>3</td>\n",
       "      <td>NaN</td>\n",
       "      <td>3</td>\n",
       "      <td>NaN</td>\n",
       "      <td>960744597314875393</td>\n",
       "      <td>NaN</td>\n",
       "      <td>2020-12-03 23:59:52</td>\n",
       "      <td>2020</td>\n",
       "      <td>12</td>\n",
       "      <td>3</td>\n",
       "      <td>59</td>\n",
       "      <td>52</td>\n",
       "    </tr>\n",
       "    <tr>\n",
       "      <th>3</th>\n",
       "      <td>30</td>\n",
       "      <td>_Dooooo0</td>\n",
       "      <td>2020-12-03 23:59:47</td>\n",
       "      <td>아근데 너무 귀엽지 않니 방탄소년단 부모님 모임ㅋㅋㅋㅋㅋㅋㅋㅋㅋㅋㅋㅋ https:/...</td>\n",
       "      <td>1</td>\n",
       "      <td>NaN</td>\n",
       "      <td>0</td>\n",
       "      <td>NaN</td>\n",
       "      <td>1219656208384057344</td>\n",
       "      <td>NaN</td>\n",
       "      <td>2020-12-03 23:59:47</td>\n",
       "      <td>2020</td>\n",
       "      <td>12</td>\n",
       "      <td>3</td>\n",
       "      <td>59</td>\n",
       "      <td>47</td>\n",
       "    </tr>\n",
       "    <tr>\n",
       "      <th>4</th>\n",
       "      <td>37</td>\n",
       "      <td>Jjiminyyoongii</td>\n",
       "      <td>2020-12-03 23:59:45</td>\n",
       "      <td>Happy Birthday Kim Seokjin 🌙\\n\\n#LePetitPrince...</td>\n",
       "      <td>2</td>\n",
       "      <td>NaN</td>\n",
       "      <td>0</td>\n",
       "      <td>NaN</td>\n",
       "      <td>1082022749722177537</td>\n",
       "      <td>NaN</td>\n",
       "      <td>2020-12-03 23:59:45</td>\n",
       "      <td>2020</td>\n",
       "      <td>12</td>\n",
       "      <td>3</td>\n",
       "      <td>59</td>\n",
       "      <td>45</td>\n",
       "    </tr>\n",
       "  </tbody>\n",
       "</table>\n",
       "</div>"
      ],
      "text/plain": [
       "   index        username               date_t  \\\n",
       "0     12  Onlyyou1230bts  2020-12-03 23:59:54   \n",
       "1     14        miaydizz  2020-12-03 23:59:53   \n",
       "2     18      yl58126824  2020-12-03 23:59:52   \n",
       "3     30        _Dooooo0  2020-12-03 23:59:47   \n",
       "4     37  Jjiminyyoongii  2020-12-03 23:59:45   \n",
       "\n",
       "                                              text_t  favorites  hashtags  \\\n",
       "0  @IMBANGBAKSA #석진생일ㅊㅋ\\n#HAPPYJINDAY\\n#석진아_아미가_생...          1       NaN   \n",
       "1  @yoonmeowbit @BTS_twt THANK YOU SEOKJIN 🥺 @BTS...          0       NaN   \n",
       "2  우와아....👀\\n\\n#BTS_BE #LifeGoesOn\\n#방탄소년단 #BTS @...          3       NaN   \n",
       "3  아근데 너무 귀엽지 않니 방탄소년단 부모님 모임ㅋㅋㅋㅋㅋㅋㅋㅋㅋㅋㅋㅋ https:/...          1       NaN   \n",
       "4  Happy Birthday Kim Seokjin 🌙\\n\\n#LePetitPrince...          2       NaN   \n",
       "\n",
       "   retweets  replies            author_id  p_link              dt_date  \\\n",
       "0         0      NaN  1190676407438868487     NaN  2020-12-03 23:59:54   \n",
       "1         0      NaN  1135779783822913537     NaN  2020-12-03 23:59:53   \n",
       "2         3      NaN   960744597314875393     NaN  2020-12-03 23:59:52   \n",
       "3         0      NaN  1219656208384057344     NaN  2020-12-03 23:59:47   \n",
       "4         0      NaN  1082022749722177537     NaN  2020-12-03 23:59:45   \n",
       "\n",
       "   dt_date_year  dt_date_month  dt_date_day  dt_date_min  dt_date_sec  \n",
       "0          2020             12            3           59           54  \n",
       "1          2020             12            3           59           53  \n",
       "2          2020             12            3           59           52  \n",
       "3          2020             12            3           59           47  \n",
       "4          2020             12            3           59           45  "
      ]
     },
     "execution_count": 7,
     "metadata": {},
     "output_type": "execute_result"
    }
   ],
   "source": [
    "df_3_not_re.head()"
   ]
  },
  {
   "cell_type": "code",
   "execution_count": 8,
   "metadata": {},
   "outputs": [],
   "source": [
    "# Basic Cleaning Text Function\n",
    "def CleanText(readData, Num=False, Eng=False):\n",
    "\n",
    "    # Remove Retweets \n",
    "    text = re.sub('RT @[\\w_]+: ', '', readData)\n",
    "\n",
    "    # Remove Mentions\n",
    "    text = re.sub('@[\\w_]+', '', text)\n",
    "\n",
    "    # Remove or Replace URL \n",
    "    text = re.sub(r\"http[s]?://(?:[a-zA-Z]|[0-9]|[$-_@.&+]|[!*\\(\\),]|(?:%[0-9a-fA-F][0-9a-fA-F]))+\", ' ', text) # http로 시작되는 url\n",
    "    text = re.sub(r\"[-a-zA-Z0-9@:%._\\+~#=]{1,256}\\.[a-zA-Z0-9()]{2,6}\\b([-a-zA-Z0-9()@:%_\\+.~#?&//=]*)\", ' ', text) # http로 시작되지 않는 url\n",
    "    \n",
    "    # Remove Hashtag\n",
    "    text = re.sub('[#]+[0-9a-zA-Z_]+', ' ', text)\n",
    "\n",
    "    # Remove Garbage Words (ex. &lt, &gt, etc)\n",
    "    text = re.sub('[&]+[a-z]+', ' ', text)\n",
    "\n",
    "    # Remove Special Characters\n",
    "    text = re.sub('[^0-9a-zA-Zㄱ-ㅎ가-힣]', ' ', text)\n",
    "    \n",
    "    # Remove newline\n",
    "    text = text.replace('\\n',' ')\n",
    "    \n",
    "    # Remove 방탄, 방탄소년단\n",
    "    text = text.replace('방탄',' ')\n",
    "    text = text.replace('방탄소년단',' ')\n",
    "    text = text.replace('소년단',' ')\n",
    "       \n",
    "    \n",
    "    \n",
    "    \n",
    "    if Num is True:\n",
    "        # Remove Numbers\n",
    "        text = re.sub(r'\\d+',' ',text)\n",
    "    \n",
    "    if Eng is True:\n",
    "        # Remove English \n",
    "        text = re.sub('[a-zA-Z]' , ' ', text)\n",
    "\n",
    "    # Remove multi spacing & Reform sentence\n",
    "    text = ' '.join(text.split())\n",
    "       \n",
    "    return text"
   ]
  },
  {
   "cell_type": "code",
   "execution_count": 9,
   "metadata": {},
   "outputs": [],
   "source": [
    "df_tweet = []"
   ]
  },
  {
   "cell_type": "code",
   "execution_count": 12,
   "metadata": {},
   "outputs": [],
   "source": [
    "for i in range(len(df_3_not_re)):\n",
    "    \n",
    "    #CleanText(df_3['text_t'][i])\n",
    "    \n",
    "    df_tweet.append(CleanText(df_3_not_re['text_t'][i], Num = True))"
   ]
  },
  {
   "cell_type": "code",
   "execution_count": 13,
   "metadata": {},
   "outputs": [],
   "source": [
    "okt = Okt()"
   ]
  },
  {
   "cell_type": "code",
   "execution_count": 14,
   "metadata": {},
   "outputs": [],
   "source": [
    "dataset = []"
   ]
  },
  {
   "cell_type": "code",
   "execution_count": 15,
   "metadata": {},
   "outputs": [],
   "source": [
    "for i in range(len(df_tweet)):\n",
    "    \n",
    "    #dataset.append(hannanum.nouns(re.sub('[^0-9가-힣a-zA-Z\\s]','',df_tweet[i])))\n",
    "    #print(i)\n",
    "    re_k = okt.nouns(re.sub('[^0-9가-힣\\s]','',df_tweet[i]))\n",
    "    \n",
    "    re_k_temp =[]\n",
    "    \n",
    "    for n in re_k:        \n",
    "        \n",
    "        if len(n) > 1:\n",
    "            \n",
    "            re_k_temp.append(n)\n",
    "            \n",
    "    \n",
    "    \n",
    "    dataset.append(re_k_temp)"
   ]
  },
  {
   "cell_type": "code",
   "execution_count": 17,
   "metadata": {},
   "outputs": [],
   "source": [
    "result = (list(apriori(dataset, min_support=0.01)))"
   ]
  },
  {
   "cell_type": "code",
   "execution_count": 18,
   "metadata": {},
   "outputs": [],
   "source": [
    "df_1 = pd.DataFrame(result)"
   ]
  },
  {
   "cell_type": "code",
   "execution_count": 19,
   "metadata": {},
   "outputs": [],
   "source": [
    "df_1['length'] = df_1['items'].apply(lambda x: len(x))"
   ]
  },
  {
   "cell_type": "code",
   "execution_count": 20,
   "metadata": {},
   "outputs": [],
   "source": [
    "df_1 = df_1[(df_1['length']==2)&(df_1['support']>0.01)].sort_values(by='support',\n",
    "                                                                  ascending = False)"
   ]
  },
  {
   "cell_type": "code",
   "execution_count": 21,
   "metadata": {},
   "outputs": [
    {
     "data": {
      "text/html": [
       "<div>\n",
       "<style scoped>\n",
       "    .dataframe tbody tr th:only-of-type {\n",
       "        vertical-align: middle;\n",
       "    }\n",
       "\n",
       "    .dataframe tbody tr th {\n",
       "        vertical-align: top;\n",
       "    }\n",
       "\n",
       "    .dataframe thead th {\n",
       "        text-align: right;\n",
       "    }\n",
       "</style>\n",
       "<table border=\"1\" class=\"dataframe\">\n",
       "  <thead>\n",
       "    <tr style=\"text-align: right;\">\n",
       "      <th></th>\n",
       "      <th>items</th>\n",
       "      <th>support</th>\n",
       "      <th>ordered_statistics</th>\n",
       "      <th>length</th>\n",
       "    </tr>\n",
       "  </thead>\n",
       "  <tbody>\n",
       "    <tr>\n",
       "      <th>79</th>\n",
       "      <td>(축하, 생일)</td>\n",
       "      <td>0.137398</td>\n",
       "      <td>[((), (축하, 생일), 0.13739793140990747, 1.0), ((생...</td>\n",
       "      <td>2</td>\n",
       "    </tr>\n",
       "    <tr>\n",
       "      <th>78</th>\n",
       "      <td>(생일, 진아)</td>\n",
       "      <td>0.088260</td>\n",
       "      <td>[((), (생일, 진아), 0.0882598439484667, 1.0), ((생일...</td>\n",
       "      <td>2</td>\n",
       "    </tr>\n",
       "    <tr>\n",
       "      <th>101</th>\n",
       "      <td>(축하, 진아)</td>\n",
       "      <td>0.086445</td>\n",
       "      <td>[((), (축하, 진아), 0.0864452912357104, 1.0), ((진아...</td>\n",
       "      <td>2</td>\n",
       "    </tr>\n",
       "    <tr>\n",
       "      <th>63</th>\n",
       "      <td>(사랑, 생일)</td>\n",
       "      <td>0.056360</td>\n",
       "      <td>[((), (사랑, 생일), 0.05636000725821085, 1.0), ((사...</td>\n",
       "      <td>2</td>\n",
       "    </tr>\n",
       "    <tr>\n",
       "      <th>69</th>\n",
       "      <td>(사랑, 축하)</td>\n",
       "      <td>0.054037</td>\n",
       "      <td>[((), (사랑, 축하), 0.05403737978588278, 1.0), ((사...</td>\n",
       "      <td>2</td>\n",
       "    </tr>\n",
       "  </tbody>\n",
       "</table>\n",
       "</div>"
      ],
      "text/plain": [
       "        items   support                                 ordered_statistics  \\\n",
       "79   (축하, 생일)  0.137398  [((), (축하, 생일), 0.13739793140990747, 1.0), ((생...   \n",
       "78   (생일, 진아)  0.088260  [((), (생일, 진아), 0.0882598439484667, 1.0), ((생일...   \n",
       "101  (축하, 진아)  0.086445  [((), (축하, 진아), 0.0864452912357104, 1.0), ((진아...   \n",
       "63   (사랑, 생일)  0.056360  [((), (사랑, 생일), 0.05636000725821085, 1.0), ((사...   \n",
       "69   (사랑, 축하)  0.054037  [((), (사랑, 축하), 0.05403737978588278, 1.0), ((사...   \n",
       "\n",
       "     length  \n",
       "79        2  \n",
       "78        2  \n",
       "101       2  \n",
       "63        2  \n",
       "69        2  "
      ]
     },
     "execution_count": 21,
     "metadata": {},
     "output_type": "execute_result"
    }
   ],
   "source": [
    "df_1.head()"
   ]
  },
  {
   "cell_type": "code",
   "execution_count": 22,
   "metadata": {},
   "outputs": [],
   "source": [
    "G = nx.Graph()"
   ]
  },
  {
   "cell_type": "code",
   "execution_count": 23,
   "metadata": {},
   "outputs": [],
   "source": [
    "ar=(df_1['items'])\n",
    "G.add_edges_from(ar)"
   ]
  },
  {
   "cell_type": "code",
   "execution_count": 26,
   "metadata": {},
   "outputs": [],
   "source": [
    "pr= nx.pagerank(G)\n",
    "nsize = np.array([v for v in pr.values()])"
   ]
  },
  {
   "cell_type": "code",
   "execution_count": 27,
   "metadata": {},
   "outputs": [],
   "source": [
    "nsize = 1000* (nsize - min(nsize))/ (max(nsize)-min(nsize))"
   ]
  },
  {
   "cell_type": "code",
   "execution_count": 28,
   "metadata": {},
   "outputs": [],
   "source": [
    "pos = nx.fruchterman_reingold_layout(G)"
   ]
  },
  {
   "cell_type": "code",
   "execution_count": 32,
   "metadata": {},
   "outputs": [
    {
     "data": {
      "image/png": "[encoded data removed]",
      "text/plain": [
       "<Figure size 1440x1440 with 1 Axes>"
      ]
     },
     "metadata": {},
     "output_type": "display_data"
    }
   ],
   "source": [
    "plt.figure(figsize = (20,20))\n",
    "plt.axis('off')\n",
    "nx.draw_networkx(G, font_family=font_name, font_size = 16,\n",
    "                pos = pos, node_color = list(pr.values()), node_size = nsize,\n",
    "                alpha = 0.8, edge_color='.5', cmap = plt.cm.YlOrBr)\n",
    "\n",
    "plt.show()"
   ]
  }
 ],
 "metadata": {
  "kernelspec": {
   "display_name": "Python 3",
   "language": "python",
   "name": "python3"
  },
  "language_info": {
   "codemirror_mode": {
    "name": "ipython",
    "version": 3
   },
   "file_extension": ".py",
   "mimetype": "text/x-python",
   "name": "python",
   "nbconvert_exporter": "python",
   "pygments_lexer": "ipython3",
   "version": "3.7.6"
  }
 },
 "nbformat": 4,
 "nbformat_minor": 4
}
